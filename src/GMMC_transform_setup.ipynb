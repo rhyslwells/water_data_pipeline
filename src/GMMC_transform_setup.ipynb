{
 "cells": [
  {
   "cell_type": "code",
   "execution_count": 21,
   "metadata": {},
   "outputs": [],
   "source": [
    "# The objective of this file is to provide the transform_GMMC function  \n",
    "\n",
    "# def transform_GMMC(data: pd.DataFrame) -> pd.DataFrame:\n",
    "#     \"\"\"Transform the dataset into the desired structure and filters.\"\"\"\n",
    "#     logging.info(f\"Transforming data, initial size: {data.shape}\")\n",
    "#     # Example transformation: adding more realistic transformations\n",
    "#     # This is a placeholder. Actual transformations depend on the specific needs.\n",
    "#     df = data\n",
    "#     logging.info(f\"Transformed data size: {df.shape}\")\n",
    "#     return df"
   ]
  },
  {
   "cell_type": "code",
   "execution_count": 22,
   "metadata": {},
   "outputs": [
    {
     "name": "stderr",
     "output_type": "stream",
     "text": [
      "2024-06-06 16:32:26,678 - INFO - Extracting data from CSV at ../data_storage/GMMC/raw_data/GMMC-2020-M.csv\n"
     ]
    }
   ],
   "source": [
    "from etl import extract_csv\n",
    "import pandas as pd\n",
    "\n",
    "path='data_storage/GMMC/raw_data/GMMC-2020-M.csv'\n",
    "total_path='../'+path\n",
    "df= extract_csv(total_path)"
   ]
  },
  {
   "cell_type": "code",
   "execution_count": 23,
   "metadata": {},
   "outputs": [
    {
     "data": {
      "text/plain": [
       "(19044, 17)"
      ]
     },
     "execution_count": 23,
     "metadata": {},
     "output_type": "execute_result"
    }
   ],
   "source": [
    "df.head(3)\n",
    "# How to show ful length of the columns\n",
    "pd.set_option('display.max_columns', None)\n",
    "df.head(3)\n",
    "df.shape"
   ]
  },
  {
   "cell_type": "code",
   "execution_count": 24,
   "metadata": {},
   "outputs": [
    {
     "data": {
      "text/html": [
       "<div>\n",
       "<style scoped>\n",
       "    .dataframe tbody tr th:only-of-type {\n",
       "        vertical-align: middle;\n",
       "    }\n",
       "\n",
       "    .dataframe tbody tr th {\n",
       "        vertical-align: top;\n",
       "    }\n",
       "\n",
       "    .dataframe thead th {\n",
       "        text-align: right;\n",
       "    }\n",
       "</style>\n",
       "<table border=\"1\" class=\"dataframe\">\n",
       "  <thead>\n",
       "    <tr style=\"text-align: right;\">\n",
       "      <th></th>\n",
       "      <th>ID</th>\n",
       "      <th>Sampling Point</th>\n",
       "      <th>Sampling Point Notation</th>\n",
       "      <th>Sampling Point Label</th>\n",
       "      <th>Sample Date and Time</th>\n",
       "      <th>Determinand Label</th>\n",
       "      <th>Determinand Definition</th>\n",
       "      <th>Determinand Notation</th>\n",
       "      <th>Result Qualifier Notation</th>\n",
       "      <th>Result</th>\n",
       "      <th>Result Interpretation</th>\n",
       "      <th>Unit</th>\n",
       "      <th>Sample Material Type</th>\n",
       "      <th>Is Compliance Sample</th>\n",
       "      <th>Sample Purpose</th>\n",
       "      <th>Easting</th>\n",
       "      <th>Northing</th>\n",
       "    </tr>\n",
       "  </thead>\n",
       "  <tbody>\n",
       "    <tr>\n",
       "      <th>0</th>\n",
       "      <td>http://environment.data.gov.uk/water-quality/d...</td>\n",
       "      <td>http://environment.data.gov.uk/water-quality/i...</td>\n",
       "      <td>NW-1086</td>\n",
       "      <td>STAGG BROOK U/S WHITCHURCH STW</td>\n",
       "      <td>2020-01-17T12:37:00</td>\n",
       "      <td>Sld Sus@105C</td>\n",
       "      <td>Solids, Suspended at 105 C</td>\n",
       "      <td>135</td>\n",
       "      <td>NaN</td>\n",
       "      <td>43.00</td>\n",
       "      <td>NaN</td>\n",
       "      <td>mg/l</td>\n",
       "      <td>RIVER / RUNNING SURFACE WATER</td>\n",
       "      <td>False</td>\n",
       "      <td>ENVIRONMENTAL MONITORING STATUTORY (EU DIRECTI...</td>\n",
       "      <td>351720</td>\n",
       "      <td>341610</td>\n",
       "    </tr>\n",
       "    <tr>\n",
       "      <th>1</th>\n",
       "      <td>http://environment.data.gov.uk/water-quality/d...</td>\n",
       "      <td>http://environment.data.gov.uk/water-quality/i...</td>\n",
       "      <td>NW-1086</td>\n",
       "      <td>STAGG BROOK U/S WHITCHURCH STW</td>\n",
       "      <td>2020-01-17T12:37:00</td>\n",
       "      <td>Ammonia(N)</td>\n",
       "      <td>Ammoniacal Nitrogen as N</td>\n",
       "      <td>111</td>\n",
       "      <td>NaN</td>\n",
       "      <td>0.16</td>\n",
       "      <td>NaN</td>\n",
       "      <td>mg/l</td>\n",
       "      <td>RIVER / RUNNING SURFACE WATER</td>\n",
       "      <td>False</td>\n",
       "      <td>ENVIRONMENTAL MONITORING STATUTORY (EU DIRECTI...</td>\n",
       "      <td>351720</td>\n",
       "      <td>341610</td>\n",
       "    </tr>\n",
       "    <tr>\n",
       "      <th>2</th>\n",
       "      <td>http://environment.data.gov.uk/water-quality/d...</td>\n",
       "      <td>http://environment.data.gov.uk/water-quality/i...</td>\n",
       "      <td>NW-1086</td>\n",
       "      <td>STAGG BROOK U/S WHITCHURCH STW</td>\n",
       "      <td>2020-01-17T12:37:00</td>\n",
       "      <td>Chloride Ion</td>\n",
       "      <td>Chloride</td>\n",
       "      <td>172</td>\n",
       "      <td>NaN</td>\n",
       "      <td>29.00</td>\n",
       "      <td>NaN</td>\n",
       "      <td>mg/l</td>\n",
       "      <td>RIVER / RUNNING SURFACE WATER</td>\n",
       "      <td>False</td>\n",
       "      <td>ENVIRONMENTAL MONITORING STATUTORY (EU DIRECTI...</td>\n",
       "      <td>351720</td>\n",
       "      <td>341610</td>\n",
       "    </tr>\n",
       "  </tbody>\n",
       "</table>\n",
       "</div>"
      ],
      "text/plain": [
       "                                                  ID  \\\n",
       "0  http://environment.data.gov.uk/water-quality/d...   \n",
       "1  http://environment.data.gov.uk/water-quality/d...   \n",
       "2  http://environment.data.gov.uk/water-quality/d...   \n",
       "\n",
       "                                      Sampling Point Sampling Point Notation  \\\n",
       "0  http://environment.data.gov.uk/water-quality/i...                 NW-1086   \n",
       "1  http://environment.data.gov.uk/water-quality/i...                 NW-1086   \n",
       "2  http://environment.data.gov.uk/water-quality/i...                 NW-1086   \n",
       "\n",
       "             Sampling Point Label Sample Date and Time Determinand Label  \\\n",
       "0  STAGG BROOK U/S WHITCHURCH STW  2020-01-17T12:37:00      Sld Sus@105C   \n",
       "1  STAGG BROOK U/S WHITCHURCH STW  2020-01-17T12:37:00        Ammonia(N)   \n",
       "2  STAGG BROOK U/S WHITCHURCH STW  2020-01-17T12:37:00      Chloride Ion   \n",
       "\n",
       "       Determinand Definition  Determinand Notation Result Qualifier Notation  \\\n",
       "0  Solids, Suspended at 105 C                   135                       NaN   \n",
       "1    Ammoniacal Nitrogen as N                   111                       NaN   \n",
       "2                    Chloride                   172                       NaN   \n",
       "\n",
       "   Result  Result Interpretation  Unit           Sample Material Type  \\\n",
       "0   43.00                    NaN  mg/l  RIVER / RUNNING SURFACE WATER   \n",
       "1    0.16                    NaN  mg/l  RIVER / RUNNING SURFACE WATER   \n",
       "2   29.00                    NaN  mg/l  RIVER / RUNNING SURFACE WATER   \n",
       "\n",
       "   Is Compliance Sample                                     Sample Purpose  \\\n",
       "0                 False  ENVIRONMENTAL MONITORING STATUTORY (EU DIRECTI...   \n",
       "1                 False  ENVIRONMENTAL MONITORING STATUTORY (EU DIRECTI...   \n",
       "2                 False  ENVIRONMENTAL MONITORING STATUTORY (EU DIRECTI...   \n",
       "\n",
       "   Easting  Northing  \n",
       "0   351720    341610  \n",
       "1   351720    341610  \n",
       "2   351720    341610  "
      ]
     },
     "execution_count": 24,
     "metadata": {},
     "output_type": "execute_result"
    }
   ],
   "source": [
    "# Rename columns for clarity\n",
    "df.rename(columns={\n",
    "    '@id': 'ID',\n",
    "    'sample.samplingPoint': 'Sampling Point',\n",
    "    'sample.samplingPoint.notation': 'Sampling Point Notation',\n",
    "    'sample.samplingPoint.label': 'Sampling Point Label',\n",
    "    'sample.sampleDateTime': 'Sample Date and Time',\n",
    "    'determinand.label': 'Determinand Label',\n",
    "    'determinand.definition': 'Determinand Definition',\n",
    "    'determinand.notation': 'Determinand Notation',\n",
    "    'resultQualifier.notation': 'Result Qualifier Notation',\n",
    "    'result': 'Result',\n",
    "    'codedResultInterpretation.interpretation': 'Result Interpretation',\n",
    "    'determinand.unit.label': 'Unit',\n",
    "    'sample.sampledMaterialType.label': 'Sample Material Type',\n",
    "    'sample.isComplianceSample': 'Is Compliance Sample',\n",
    "    'sample.purpose.label': 'Sample Purpose',\n",
    "    'sample.samplingPoint.easting': 'Easting',\n",
    "    'sample.samplingPoint.northing': 'Northing'\n",
    "}, inplace=True)\n",
    "\n",
    "df.head(3)"
   ]
  },
  {
   "cell_type": "code",
   "execution_count": 25,
   "metadata": {},
   "outputs": [
    {
     "data": {
      "text/plain": [
       "ID                               0\n",
       "Sampling Point                   0\n",
       "Sampling Point Notation          0\n",
       "Sampling Point Label             0\n",
       "Sample Date and Time             0\n",
       "Determinand Label                0\n",
       "Determinand Definition           0\n",
       "Determinand Notation             0\n",
       "Result Qualifier Notation    16577\n",
       "Result                           0\n",
       "Result Interpretation        19044\n",
       "Unit                             0\n",
       "Sample Material Type             0\n",
       "Is Compliance Sample             0\n",
       "Sample Purpose                   0\n",
       "Easting                          0\n",
       "Northing                         0\n",
       "dtype: int64"
      ]
     },
     "execution_count": 25,
     "metadata": {},
     "output_type": "execute_result"
    }
   ],
   "source": [
    "# determine the number of missing values in each column\n",
    "missing_values = df.isnull().sum()\n",
    "missing_values"
   ]
  },
  {
   "cell_type": "code",
   "execution_count": 26,
   "metadata": {},
   "outputs": [
    {
     "data": {
      "text/plain": [
       "ID                         0\n",
       "Sampling Point             0\n",
       "Sampling Point Notation    0\n",
       "Sampling Point Label       0\n",
       "Sample Date and Time       0\n",
       "Determinand Label          0\n",
       "Determinand Definition     0\n",
       "Determinand Notation       0\n",
       "Result                     0\n",
       "Unit                       0\n",
       "Sample Material Type       0\n",
       "Is Compliance Sample       0\n",
       "Sample Purpose             0\n",
       "Easting                    0\n",
       "Northing                   0\n",
       "dtype: int64"
      ]
     },
     "execution_count": 26,
     "metadata": {},
     "output_type": "execute_result"
    }
   ],
   "source": [
    "# drop Result Interpretation column\n",
    "df.drop(columns=['Result Interpretation','Result Qualifier Notation'], inplace=True)\n",
    "# determine the number of missing values in each column\n",
    "missing_values = df.isnull().sum()\n",
    "missing_values"
   ]
  },
  {
   "cell_type": "code",
   "execution_count": 30,
   "metadata": {},
   "outputs": [
    {
     "data": {
      "text/plain": [
       "['ID',\n",
       " 'Sampling Point',\n",
       " 'Sampling Point Notation',\n",
       " 'Sampling Point Label',\n",
       " 'Sample Date and Time',\n",
       " 'Determinand Label',\n",
       " 'Determinand Definition',\n",
       " 'Result Qualifier Notation',\n",
       " 'Unit',\n",
       " 'Sample Material Type',\n",
       " 'Is Compliance Sample',\n",
       " 'Sample Purpose']"
      ]
     },
     "execution_count": 30,
     "metadata": {},
     "output_type": "execute_result"
    }
   ],
   "source": [
    "features = ['ID', 'Sampling Point', 'Sampling Point Notation', 'Sampling Point Label', 'Sample Date and Time', 'Determinand Label', 'Determinand Definition', 'Determinand Notation', 'Result Qualifier Notation', 'Result', 'Result Interpretation', 'Unit', 'Sample Material Type', 'Is Compliance Sample', 'Sample Purpose', 'Easting', 'Northing']\n",
    "\n",
    "# get numerical columns\n",
    "numerical_columns =['Determinand Notation', 'Result', 'Easting',\n",
    "       'Northing']\n",
    "\n",
    "# Get text columns those that are not numerical\n",
    "text_columns = [col for col in features if col not in numerical_columns]\n",
    "text_columns"
   ]
  },
  {
   "cell_type": "markdown",
   "metadata": {},
   "source": [
    "The column 'Sampling Point' is the same as 'Sampling Point Notation' e.g. http://environment.data.gov.uk/water-quality/id/sampling-point/NW-1086\n",
    "and NW-1086"
   ]
  },
  {
   "cell_type": "code",
   "execution_count": 31,
   "metadata": {},
   "outputs": [],
   "source": [
    "df.drop(columns=['Sampling Point'], inplace=True)\n"
   ]
  },
  {
   "cell_type": "code",
   "execution_count": 32,
   "metadata": {},
   "outputs": [
    {
     "data": {
      "text/html": [
       "<div>\n",
       "<style scoped>\n",
       "    .dataframe tbody tr th:only-of-type {\n",
       "        vertical-align: middle;\n",
       "    }\n",
       "\n",
       "    .dataframe tbody tr th {\n",
       "        vertical-align: top;\n",
       "    }\n",
       "\n",
       "    .dataframe thead th {\n",
       "        text-align: right;\n",
       "    }\n",
       "</style>\n",
       "<table border=\"1\" class=\"dataframe\">\n",
       "  <thead>\n",
       "    <tr style=\"text-align: right;\">\n",
       "      <th></th>\n",
       "      <th>ID</th>\n",
       "    </tr>\n",
       "  </thead>\n",
       "  <tbody>\n",
       "    <tr>\n",
       "      <th>0</th>\n",
       "      <td>http://environment.data.gov.uk/water-quality/d...</td>\n",
       "    </tr>\n",
       "    <tr>\n",
       "      <th>1</th>\n",
       "      <td>http://environment.data.gov.uk/water-quality/d...</td>\n",
       "    </tr>\n",
       "    <tr>\n",
       "      <th>2</th>\n",
       "      <td>http://environment.data.gov.uk/water-quality/d...</td>\n",
       "    </tr>\n",
       "  </tbody>\n",
       "</table>\n",
       "</div>"
      ],
      "text/plain": [
       "                                                  ID\n",
       "0  http://environment.data.gov.uk/water-quality/d...\n",
       "1  http://environment.data.gov.uk/water-quality/d...\n",
       "2  http://environment.data.gov.uk/water-quality/d..."
      ]
     },
     "execution_count": 32,
     "metadata": {},
     "output_type": "execute_result"
    }
   ],
   "source": [
    "# df[text_columns].head(3)\n",
    "df[['ID']].head(3)\n",
    "#"
   ]
  },
  {
   "cell_type": "code",
   "execution_count": 33,
   "metadata": {},
   "outputs": [
    {
     "data": {
      "text/html": [
       "<div>\n",
       "<style scoped>\n",
       "    .dataframe tbody tr th:only-of-type {\n",
       "        vertical-align: middle;\n",
       "    }\n",
       "\n",
       "    .dataframe tbody tr th {\n",
       "        vertical-align: top;\n",
       "    }\n",
       "\n",
       "    .dataframe thead th {\n",
       "        text-align: right;\n",
       "    }\n",
       "</style>\n",
       "<table border=\"1\" class=\"dataframe\">\n",
       "  <thead>\n",
       "    <tr style=\"text-align: right;\">\n",
       "      <th></th>\n",
       "      <th>ID</th>\n",
       "    </tr>\n",
       "  </thead>\n",
       "  <tbody>\n",
       "    <tr>\n",
       "      <th>0</th>\n",
       "      <td>NW-5286182-0135</td>\n",
       "    </tr>\n",
       "    <tr>\n",
       "      <th>1</th>\n",
       "      <td>NW-5286182-0111</td>\n",
       "    </tr>\n",
       "    <tr>\n",
       "      <th>2</th>\n",
       "      <td>NW-5286182-0172</td>\n",
       "    </tr>\n",
       "  </tbody>\n",
       "</table>\n",
       "</div>"
      ],
      "text/plain": [
       "                ID\n",
       "0  NW-5286182-0135\n",
       "1  NW-5286182-0111\n",
       "2  NW-5286182-0172"
      ]
     },
     "execution_count": 33,
     "metadata": {},
     "output_type": "execute_result"
    }
   ],
   "source": [
    "\n",
    "# In id we have http://environment.data.gov.uk/water-quality/data/measurement/NW-5286182-0135\n",
    "# We need to extract the last part of the string\n",
    "df['ID'] = df['ID'].str.split('/').str[-1]\n",
    "df[['ID']].head(3)"
   ]
  },
  {
   "cell_type": "code",
   "execution_count": 13,
   "metadata": {},
   "outputs": [
    {
     "data": {
      "text/html": [
       "<div>\n",
       "<style scoped>\n",
       "    .dataframe tbody tr th:only-of-type {\n",
       "        vertical-align: middle;\n",
       "    }\n",
       "\n",
       "    .dataframe tbody tr th {\n",
       "        vertical-align: top;\n",
       "    }\n",
       "\n",
       "    .dataframe thead th {\n",
       "        text-align: right;\n",
       "    }\n",
       "</style>\n",
       "<table border=\"1\" class=\"dataframe\">\n",
       "  <thead>\n",
       "    <tr style=\"text-align: right;\">\n",
       "      <th></th>\n",
       "      <th>Determinand Notation</th>\n",
       "      <th>Result</th>\n",
       "      <th>Result Interpretation</th>\n",
       "      <th>Easting</th>\n",
       "      <th>Northing</th>\n",
       "    </tr>\n",
       "  </thead>\n",
       "  <tbody>\n",
       "    <tr>\n",
       "      <th>0</th>\n",
       "      <td>135</td>\n",
       "      <td>43.00</td>\n",
       "      <td>NaN</td>\n",
       "      <td>351720</td>\n",
       "      <td>341610</td>\n",
       "    </tr>\n",
       "    <tr>\n",
       "      <th>1</th>\n",
       "      <td>111</td>\n",
       "      <td>0.16</td>\n",
       "      <td>NaN</td>\n",
       "      <td>351720</td>\n",
       "      <td>341610</td>\n",
       "    </tr>\n",
       "    <tr>\n",
       "      <th>2</th>\n",
       "      <td>172</td>\n",
       "      <td>29.00</td>\n",
       "      <td>NaN</td>\n",
       "      <td>351720</td>\n",
       "      <td>341610</td>\n",
       "    </tr>\n",
       "  </tbody>\n",
       "</table>\n",
       "</div>"
      ],
      "text/plain": [
       "   Determinand Notation  Result  Result Interpretation  Easting  Northing\n",
       "0                   135   43.00                    NaN   351720    341610\n",
       "1                   111    0.16                    NaN   351720    341610\n",
       "2                   172   29.00                    NaN   351720    341610"
      ]
     },
     "execution_count": 13,
     "metadata": {},
     "output_type": "execute_result"
    }
   ],
   "source": [
    "df[numerical_columns].head(3)"
   ]
  },
  {
   "cell_type": "code",
   "execution_count": 35,
   "metadata": {},
   "outputs": [
    {
     "data": {
      "text/html": [
       "<div>\n",
       "<style scoped>\n",
       "    .dataframe tbody tr th:only-of-type {\n",
       "        vertical-align: middle;\n",
       "    }\n",
       "\n",
       "    .dataframe tbody tr th {\n",
       "        vertical-align: top;\n",
       "    }\n",
       "\n",
       "    .dataframe thead th {\n",
       "        text-align: right;\n",
       "    }\n",
       "</style>\n",
       "<table border=\"1\" class=\"dataframe\">\n",
       "  <thead>\n",
       "    <tr style=\"text-align: right;\">\n",
       "      <th></th>\n",
       "      <th>Sample Date and Time</th>\n",
       "    </tr>\n",
       "  </thead>\n",
       "  <tbody>\n",
       "    <tr>\n",
       "      <th>0</th>\n",
       "      <td>2020-01-17T12:37:00</td>\n",
       "    </tr>\n",
       "    <tr>\n",
       "      <th>1</th>\n",
       "      <td>2020-01-17T12:37:00</td>\n",
       "    </tr>\n",
       "    <tr>\n",
       "      <th>2</th>\n",
       "      <td>2020-01-17T12:37:00</td>\n",
       "    </tr>\n",
       "  </tbody>\n",
       "</table>\n",
       "</div>"
      ],
      "text/plain": [
       "  Sample Date and Time\n",
       "0  2020-01-17T12:37:00\n",
       "1  2020-01-17T12:37:00\n",
       "2  2020-01-17T12:37:00"
      ]
     },
     "execution_count": 35,
     "metadata": {},
     "output_type": "execute_result"
    }
   ],
   "source": [
    "df[['Sample Date and Time']].head(3)"
   ]
  },
  {
   "cell_type": "code",
   "execution_count": 36,
   "metadata": {},
   "outputs": [
    {
     "data": {
      "text/html": [
       "<div>\n",
       "<style scoped>\n",
       "    .dataframe tbody tr th:only-of-type {\n",
       "        vertical-align: middle;\n",
       "    }\n",
       "\n",
       "    .dataframe tbody tr th {\n",
       "        vertical-align: top;\n",
       "    }\n",
       "\n",
       "    .dataframe thead th {\n",
       "        text-align: right;\n",
       "    }\n",
       "</style>\n",
       "<table border=\"1\" class=\"dataframe\">\n",
       "  <thead>\n",
       "    <tr style=\"text-align: right;\">\n",
       "      <th></th>\n",
       "      <th>Sample Date and Time</th>\n",
       "    </tr>\n",
       "  </thead>\n",
       "  <tbody>\n",
       "    <tr>\n",
       "      <th>0</th>\n",
       "      <td>2020-01-17 12:37:00</td>\n",
       "    </tr>\n",
       "    <tr>\n",
       "      <th>1</th>\n",
       "      <td>2020-01-17 12:37:00</td>\n",
       "    </tr>\n",
       "    <tr>\n",
       "      <th>2</th>\n",
       "      <td>2020-01-17 12:37:00</td>\n",
       "    </tr>\n",
       "  </tbody>\n",
       "</table>\n",
       "</div>"
      ],
      "text/plain": [
       "  Sample Date and Time\n",
       "0  2020-01-17 12:37:00\n",
       "1  2020-01-17 12:37:00\n",
       "2  2020-01-17 12:37:00"
      ]
     },
     "execution_count": 36,
     "metadata": {},
     "output_type": "execute_result"
    }
   ],
   "source": [
    "\n",
    "# Convert the Sample Date and Time to datetime\n",
    "df['Sample Date and Time'] = pd.to_datetime(df['Sample Date and Time'])\n",
    "df[['Sample Date and Time']].head(3)\n"
   ]
  },
  {
   "cell_type": "code",
   "execution_count": null,
   "metadata": {},
   "outputs": [],
   "source": []
  }
 ],
 "metadata": {
  "kernelspec": {
   "display_name": "base",
   "language": "python",
   "name": "python3"
  },
  "language_info": {
   "codemirror_mode": {
    "name": "ipython",
    "version": 3
   },
   "file_extension": ".py",
   "mimetype": "text/x-python",
   "name": "python",
   "nbconvert_exporter": "python",
   "pygments_lexer": "ipython3",
   "version": "3.10.8"
  }
 },
 "nbformat": 4,
 "nbformat_minor": 2
}
